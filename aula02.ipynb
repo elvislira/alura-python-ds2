{
 "cells": [
  {
   "cell_type": "markdown",
   "metadata": {},
   "source": [
    "# Desafio - Hora da Prática - Aula 02 - Funções"
   ]
  },
  {
   "cell_type": "markdown",
   "metadata": {},
   "source": [
    "## Aquecimento"
   ]
  },
  {
   "cell_type": "markdown",
   "metadata": {},
   "source": [
    "1. Escreva um código que lê a lista abaixo e faça:\n",
    "\n",
    "    >lista = [16, 14, 63, 65, 17, 99, 70, 11, 20, 48, 79, 32, 17, 89, 12, 25, 66]\n",
    "\n",
    "    * A leitura do tamanho da lista\n",
    "    * A leitura do maior e menor valor\n",
    "    * A soma dos valores da lista\n",
    "\n",
    "    Ao final exiba uma mensagem dizendo:\n",
    "\n",
    "    >*\"A lista possui [tam] números em que o maior número é [maior] e o menor número é [menor]. A soma dos valores presentes nela é igual a [soma]\"*\n",
    "\n",
    "    >**Dica**: use as funções embutidas presentes na documentação do Python."
   ]
  },
  {
   "cell_type": "code",
   "execution_count": 1,
   "metadata": {},
   "outputs": [
    {
     "name": "stdout",
     "output_type": "stream",
     "text": [
      "A lista possui 17 números em que o maior número é 99 e o menor número é 11. A soma dos valores presentes nela é igual a 743\n"
     ]
    }
   ],
   "source": [
    "lista = [16, 14, 63, 65, 17, 99, 70, 11, 20, 48, 79, 32, 17, 89, 12, 25, 66]\n",
    "\n",
    "print(f'A lista possui {len(lista)} números em que o maior número é {max(lista)} e o menor número é {min(lista)}. A soma dos valores presentes nela é igual a {sum(lista)}')"
   ]
  },
  {
   "cell_type": "markdown",
   "metadata": {},
   "source": [
    "2. Escreva uma função que gere a tabuada de um número inteiro de 1 a 10, de acordo com a escolha da pessoa usuária. Como exemplo, para o número 7, a tabuada deve ser mostrada no seguinte formato:\n",
    "\n",
    "    Tabuada do 7:\n",
    "\n",
    "    7 x 0 = 0\n",
    "\n",
    "    7 x 1 = 7\n",
    "\n",
    "    [...]\n",
    "\n",
    "    7 x 10 = 70"
   ]
  },
  {
   "cell_type": "markdown",
   "metadata": {},
   "source": [
    "* Função para exibir a tabuada:"
   ]
  },
  {
   "cell_type": "code",
   "execution_count": 7,
   "metadata": {},
   "outputs": [],
   "source": [
    "def tabuada(numero: int = 0) -> None:\n",
    "    for i in range(0, 11):\n",
    "        print(f'{numero} x {i:2} = {numero * i}')"
   ]
  },
  {
   "cell_type": "markdown",
   "metadata": {},
   "source": [
    "* Solicitar e exibir a tabuada para o usuário:"
   ]
  },
  {
   "cell_type": "code",
   "execution_count": 8,
   "metadata": {},
   "outputs": [
    {
     "name": "stdout",
     "output_type": "stream",
     "text": [
      "9 x  0 = 0\n",
      "9 x  1 = 9\n",
      "9 x  2 = 18\n",
      "9 x  3 = 27\n",
      "9 x  4 = 36\n",
      "9 x  5 = 45\n",
      "9 x  6 = 54\n",
      "9 x  7 = 63\n",
      "9 x  8 = 72\n",
      "9 x  9 = 81\n",
      "9 x 10 = 90\n"
     ]
    }
   ],
   "source": [
    "tabuada_usuario = int(input('Informe a tabuada desejada (1 a 10): '))\n",
    "\n",
    "tabuada(tabuada_usuario)"
   ]
  },
  {
   "cell_type": "markdown",
   "metadata": {},
   "source": [
    "3. Crie a função que leia a lista abaixo e retorne uma nova lista com os múltiplos de 3: [97, 80, 94, 88, 80, 1, 16, 53, 62, 32, 24, 99]\n",
    "\n",
    "    >Utilize o return na função e salve a nova lista na variável mult_3."
   ]
  },
  {
   "cell_type": "markdown",
   "metadata": {},
   "source": [
    "* Função para receber uma lista e retorna outra lista com os múltiplos de 3 da lista recebida:"
   ]
  },
  {
   "cell_type": "code",
   "execution_count": 9,
   "metadata": {},
   "outputs": [],
   "source": [
    "def multiplos_tres(lista: list = [0]) -> list:\n",
    "    multiplos = [item for item in lista if item%3 == 0]\n",
    "\n",
    "    return multiplos"
   ]
  },
  {
   "cell_type": "markdown",
   "metadata": {},
   "source": [
    "* Usando a função:"
   ]
  },
  {
   "cell_type": "code",
   "execution_count": 12,
   "metadata": {},
   "outputs": [
    {
     "name": "stdout",
     "output_type": "stream",
     "text": [
      "Múltiplos de três: [24, 99]\n"
     ]
    }
   ],
   "source": [
    "numeros = [97, 80, 94, 88, 80, 1, 16, 53, 62, 32, 24, 99]\n",
    "\n",
    "mult_3 = multiplos_tres(numeros)\n",
    "\n",
    "print(f'Múltiplos de três: {mult_3}')"
   ]
  },
  {
   "cell_type": "markdown",
   "metadata": {},
   "source": [
    "4. Crie uma lista dos quadrados dos números da seguinte lista [1, 2, 3, 4, 5, 6, 7, 8, 9, 10]. Lembre-se de utilizar as funções lambda e map() para calcular o quadrado de cada elemento da lista."
   ]
  },
  {
   "cell_type": "markdown",
   "metadata": {},
   "source": [
    "* Função para receber uma lista e retornar essa lista com seus elementos ao quadrado:"
   ]
  },
  {
   "cell_type": "code",
   "execution_count": 13,
   "metadata": {},
   "outputs": [],
   "source": [
    "def quadrados(lista: list = [0]) -> list:\n",
    "    lista_quadrados = map(lambda item: item * item, lista)\n",
    "\n",
    "    return (list(lista_quadrados))"
   ]
  },
  {
   "cell_type": "markdown",
   "metadata": {},
   "source": [
    "* Usando a função:"
   ]
  },
  {
   "cell_type": "code",
   "execution_count": 14,
   "metadata": {},
   "outputs": [
    {
     "name": "stdout",
     "output_type": "stream",
     "text": [
      "Quadrados: [1, 4, 9, 16, 25, 36, 49, 64, 81, 100]\n"
     ]
    }
   ],
   "source": [
    "numeros = [1, 2, 3, 4, 5, 6, 7, 8, 9, 10]\n",
    "\n",
    "numeros_quadrados = quadrados(numeros)\n",
    "\n",
    "print(f'Quadrados: {numeros_quadrados}')"
   ]
  },
  {
   "cell_type": "markdown",
   "metadata": {},
   "source": [
    "## Aplicando a projetos"
   ]
  },
  {
   "cell_type": "markdown",
   "metadata": {},
   "source": [
    "5. Você foi contratado(a) como cientista de dados de uma associação de skate. Para analisar as notas recebidas de skatistas em algumas competições ao longo do ano, você precisa criar um código que calcula a pontuação dos(as) atletas. Para isso, o seu código deve receber 5 notas digitadas pelas pessoas juradas.\n",
    "\n",
    "    Para calcular a pontuação de um(a) skatista, você precisa eliminar a maior e a menor pontuação dentre as 5 notas e tirar a média das 3 notas que sobraram. Retorne a média para apresentar o texto:\n",
    "\n",
    "    *\"Nota da manobra: [media]\"*"
   ]
  },
  {
   "cell_type": "code",
   "execution_count": 21,
   "metadata": {},
   "outputs": [
    {
     "name": "stdout",
     "output_type": "stream",
     "text": [
      "Nota da manobra: 7.67\n"
     ]
    }
   ],
   "source": [
    "notas = []\n",
    "\n",
    "for i in range(5):\n",
    "    nota = float(input('Digite a {i+1}º nota: '))\n",
    "    notas.append(nota)\n",
    "\n",
    "notas.remove(min(notas))\n",
    "notas.remove(max(notas))\n",
    "\n",
    "media = round(sum(notas) / len(notas), 2)\n",
    "\n",
    "print(f'Nota da manobra: {media:.2f}')"
   ]
  },
  {
   "cell_type": "markdown",
   "metadata": {},
   "source": [
    "6. Para atender a uma demanda de uma instituição de ensino para a análise do desempenho de seus(suas) estudantes, você precisa criar uma função que receba uma lista de 4 notas e retorne:\n",
    "\n",
    "    * maior nota\n",
    "    * menor nota\n",
    "    * média\n",
    "    * situação (Aprovado(a) ou Reprovado(a))\n",
    "\n",
    "    Para testar o comportamento da função, os dados podem ser exibidos em um texto:\n",
    "\n",
    "    *\"O(a) estudante obteve uma média de [media], com a sua maior nota de [maior] pontos e a menor nota de [menor] pontos e foi [situacao]\"*"
   ]
  },
  {
   "cell_type": "markdown",
   "metadata": {},
   "source": [
    "* Função solicitada:"
   ]
  },
  {
   "cell_type": "code",
   "execution_count": 22,
   "metadata": {},
   "outputs": [],
   "source": [
    "def desempenho(notas: list) -> tuple:\n",
    "    maior_nota = max(notas)\n",
    "    menor_nota = min(notas)\n",
    "    media_notas = round(sum(notas) / len(notas), 1)\n",
    "\n",
    "    if media_notas >= 6:\n",
    "        situacao = 'Aprovado(a)'\n",
    "    else:\n",
    "        situacao = 'Reprovado'\n",
    "    \n",
    "    return (maior_nota, menor_nota, media_notas, situacao)"
   ]
  },
  {
   "cell_type": "markdown",
   "metadata": {},
   "source": [
    "* Testando o comportamento da função:"
   ]
  },
  {
   "cell_type": "code",
   "execution_count": 24,
   "metadata": {},
   "outputs": [
    {
     "name": "stdout",
     "output_type": "stream",
     "text": [
      "O(a) estudante obteve uma média de 7.5, com a sua maior nota de 9.4 pontos e a menor nota de 5.7 pontos e foi Aprovado(a)\n"
     ]
    }
   ],
   "source": [
    "lista_notas = [8.0, 5.7, 9.4, 7.0]\n",
    "maior_nota, menor_nota, media, situacao = desempenho(lista_notas)\n",
    "\n",
    "print(f'O(a) estudante obteve uma média de {media}, com a sua maior nota de {maior_nota} pontos e a menor nota de {menor_nota} pontos e foi {situacao}')"
   ]
  },
  {
   "cell_type": "markdown",
   "metadata": {},
   "source": [
    "7. Você recebeu uma demanda para tratar 2 listas com os nomes e sobrenomes de cada estudante concatenando-as para apresentar seus nomes completos na forma Nome Sobrenome. As listas são:\n",
    "\n",
    "    nomes = [\"joão\", \"MaRia\", \"JOSÉ\"]\n",
    "\n",
    "    sobrenomes = [\"SILVA\", \"souza\", \"Tavares\"]\n",
    "\n",
    "    O texto exibido ao fim deve ser parecido com:\n",
    "\n",
    "    *\"Nome completo: Ana Silva\"*\n",
    "\n",
    "    >**Dica**: utilize a função map para mapear os nomes e sobrenomes e as funções de string para tratar o texto."
   ]
  },
  {
   "cell_type": "markdown",
   "metadata": {},
   "source": [
    "* Função para formatar os textos de uma lista"
   ]
  },
  {
   "cell_type": "code",
   "execution_count": 38,
   "metadata": {},
   "outputs": [],
   "source": [
    "def formatar_lista(textos: list) -> list:\n",
    "    return list(map(lambda texto: texto.capitalize(), textos))"
   ]
  },
  {
   "cell_type": "markdown",
   "metadata": {},
   "source": [
    "* Exibição dos nomes completos"
   ]
  },
  {
   "cell_type": "code",
   "execution_count": 47,
   "metadata": {},
   "outputs": [
    {
     "name": "stdout",
     "output_type": "stream",
     "text": [
      "['João Silva', 'Maria Souza', 'José Tavares']\n"
     ]
    }
   ],
   "source": [
    "nomes = [\"joão\", \"MaRia\", \"JOSÉ\"]\n",
    "sobrenomes = [\"SILVA\", \"souza\", \"Tavares\"]\n",
    "\n",
    "nomes_formatados = formatar_lista(nomes)\n",
    "sobrenomes_formatados = formatar_lista(sobrenomes)\n",
    "\n",
    "nomes_completos = [f'{n[0]} {n[1]}' for n in zip(nomes_formatados, sobrenomes_formatados)]\n",
    "\n",
    "print(nomes_completos)"
   ]
  },
  {
   "cell_type": "markdown",
   "metadata": {},
   "source": [
    "8. Como cientista de dados em um time de futebol, você precisa implementar novas formas de coleta de dados sobre o desempenho de jogadores e do time como um todo. Sua primeira ação é criar uma forma de calcular a pontuação do time no campeonato nacional a partir dos dados de gols marcados e sofridos em cada jogo.\n",
    "\n",
    "    Escreva uma função chamada calcula_pontos que recebe como parâmetros duas listas de números inteiros, representando os gols marcados e sofridos pelo time em cada partida do campeonato. A função deve retornar a pontuação do time e o aproveitamento em percentual, levando em consideração que a vitória vale 3 pontos, o empate vale 1 ponto e a derrota 0 pontos.\n",
    "\n",
    "    >**Observação**: se a quantidade de gols marcados numa partida for maior que a de sofridos, o time venceu. Caso seja igual, o time empatou e se for menor, o time perdeu. Para calcular o aproveitamento devemos fazer a razão entre a pontuação do time pela pontuação máxima que ele poderia receber.\n",
    "\n",
    "    Para teste, utilize as seguintes listas de gols marcados e sofridos:\n",
    "\n",
    "    gols_marcados = [2, 1, 3, 1, 0]\n",
    "\n",
    "    gols_sofridos = [1, 2, 2, 1, 3]\n",
    "\n",
    "    Provável texto exibido:\n",
    "\n",
    "    *\"A pontuação do time foi de [pontos] e seu aproveitamento foi de [aprov]%\"*"
   ]
  },
  {
   "cell_type": "markdown",
   "metadata": {},
   "source": [
    "* Função para retornar o desempenho no campeonato"
   ]
  },
  {
   "cell_type": "code",
   "execution_count": 62,
   "metadata": {},
   "outputs": [],
   "source": [
    "def calcula_pontos(gols_marcados: list, gols_sofridos: list) -> tuple:\n",
    "    pontos_max = len(gols_marcados) * 3\n",
    "    jogos = len(gols_marcados)\n",
    "    pontos = 0\n",
    "\n",
    "    for i in range(jogos):\n",
    "        if gols_marcados[i] > gols_sofridos[i]:\n",
    "            pontos += 3\n",
    "        elif gols_marcados[i] == gols_sofridos[i]:\n",
    "            pontos += 1\n",
    "    \n",
    "    aproveitamento = round((pontos / pontos_max) * 100.0, 2)\n",
    "\n",
    "    return (pontos, aproveitamento)"
   ]
  },
  {
   "cell_type": "markdown",
   "metadata": {},
   "source": [
    "* Testando a função:"
   ]
  },
  {
   "cell_type": "code",
   "execution_count": 63,
   "metadata": {},
   "outputs": [
    {
     "name": "stdout",
     "output_type": "stream",
     "text": [
      "A pontuação do time foi de 7 e seu aproveitamento foi de 46.67%\n"
     ]
    }
   ],
   "source": [
    "gols_marcados = [2, 1, 3, 1, 0]\n",
    "gols_sofridos = [1, 2, 2, 1, 3]\n",
    "\n",
    "pontos, aproveitamento = calcula_pontos(gols_marcados, gols_sofridos)\n",
    "\n",
    "print(f'A pontuação do time foi de {pontos} e seu aproveitamento foi de {aproveitamento}%')"
   ]
  },
  {
   "cell_type": "markdown",
   "metadata": {},
   "source": [
    "9. Você recebeu o desafio de criar um código que calcula os gastos de uma viagem para um das quatro cidades partindo de Recife, sendo elas: Salvador, Fortaleza, Natal e Aracaju.\n",
    "\n",
    "    O custo da diária do hotel é de 150 reais em todas elas e o consumo de gasolina na viagem de carro é de 14 km/l, sendo que o valor da gasolina é de 5 reais o litro. O gastos com passeios e alimentação a se fazer em cada uma delas por dia seria de [200, 400, 250, 300], respectivamente.\n",
    "\n",
    "    Sabendo que as distâncias entre Recife e cada uma das cidades é de aproximadamente [850, 800, 300, 550] km, crie três funções nas quais: a 1ª função calcule os gastos com hotel (gasto_hotel), a 2ª calcule os gastos com a gasolina (gasto_gasolina) e a 3ª os gastos com passeio e alimentação (gasto_passeio).\n",
    "\n",
    "    Para testar, simule uma viagem de 3 dias para Salvador partindo de Recife. Considere a viagem de ida e volta de carro.\n",
    "\n",
    "    *\"Com base nos gastos definidos, uma viagem de [dias] dias para [cidade] saindo de Recife custaria [gastos] reais\"*"
   ]
  },
  {
   "cell_type": "markdown",
   "metadata": {},
   "source": [
    "* Calcular gastos com hotel:"
   ]
  },
  {
   "cell_type": "code",
   "execution_count": 80,
   "metadata": {},
   "outputs": [],
   "source": [
    "def gasto_hotel(n_dias: int) -> float:\n",
    "    V_DIARIA = 150.0\n",
    "\n",
    "    return round(n_dias * V_DIARIA, 2)"
   ]
  },
  {
   "cell_type": "markdown",
   "metadata": {},
   "source": [
    "* Calcular gastos com gasolina:"
   ]
  },
  {
   "cell_type": "code",
   "execution_count": 67,
   "metadata": {},
   "outputs": [],
   "source": [
    "def gasto_gasolina(distancia: int) -> float:\n",
    "    CONSUMO = 14.0\n",
    "    VALOR_LITRO = 5.0\n",
    "    consumo_litros = distancia / CONSUMO\n",
    "\n",
    "    return round(consumo_litros * VALOR_LITRO, 2)"
   ]
  },
  {
   "cell_type": "markdown",
   "metadata": {},
   "source": [
    "* Calcular gastos com passeio e alimentação:"
   ]
  },
  {
   "cell_type": "code",
   "execution_count": 69,
   "metadata": {},
   "outputs": [],
   "source": [
    "def gasto_passeio(n_dias: int, gasto: float) -> float:\n",
    "    return round(n_dias * gasto, 2)"
   ]
  },
  {
   "cell_type": "markdown",
   "metadata": {},
   "source": [
    "* Testar usando a simulação de uma viagem de 3 dias para Salvador partindo de Recife:"
   ]
  },
  {
   "cell_type": "code",
   "execution_count": 83,
   "metadata": {},
   "outputs": [
    {
     "name": "stdout",
     "output_type": "stream",
     "text": [
      "Com base nos gastos definidos, uma viagem de 3 dias para Salvador saindo de Recife custaria 1353.57 reais\n"
     ]
    }
   ],
   "source": [
    "numero_dias = 3\n",
    "cidades = ['Salvador', 'Fortaleza', 'Natal', 'Aracaju']\n",
    "custos_passeio = [200, 400, 250, 300]\n",
    "distancias = [850, 800, 300, 550]\n",
    "\n",
    "indice_cidade = cidades.index('Salvador')\n",
    "\n",
    "custo_hotel = gasto_hotel(numero_dias)\n",
    "custo_gasolina = gasto_gasolina(distancias[indice_cidade])\n",
    "custo_passeio = gasto_passeio(numero_dias, custos_passeio[indice_cidade])\n",
    "custo_total = custo_hotel + custo_gasolina + custo_passeio\n",
    "\n",
    "print(f'Com base nos gastos definidos, uma viagem de {numero_dias} dias '\n",
    "      f'para {cidades[indice_cidade]} saindo de Recife custaria {custo_total:.2f} reais')"
   ]
  },
  {
   "cell_type": "markdown",
   "metadata": {},
   "source": [
    "10. Você iniciou um estágio em uma empresa que trabalha com processamento de linguagem natural (NLP). Sua líder requisitou que você criasse um trecho de código que recebe uma frase digitada pela pessoa usuária e filtre apenas as palavras com tamanho maior ou igual a 5, exibindo-as em uma lista. Essa demanda é voltada para a análise do padrão de comportamento de pessoas na escrita de palavras acima dessa quantidade de caracteres.\n",
    "\n",
    "    >**Dica**: utilize as funções lambda e filter() para filtrar essas palavras. Lembrando que a função embutida filter() recebe uma função (no nosso exemplo uma função lambda) e filtra um iterável de acordo com a função. Para tratar a frase use replace() para trocar a ',' '.', '!' e '?' por espaço.\n",
    "\n",
    "    Use a frase *\"Aprender Python aqui na Alura é muito bom\"* para testar o código."
   ]
  },
  {
   "cell_type": "markdown",
   "metadata": {},
   "source": [
    "* Função para filtrar palavras contendo 5 ou mais caracteres:"
   ]
  },
  {
   "cell_type": "code",
   "execution_count": 86,
   "metadata": {},
   "outputs": [],
   "source": [
    "def filtrar_palavras(frase: str) -> list:\n",
    "    frase = frase.replace(',', ' ').replace('.', ' ').replace('!', ' ').replace('?', ' ')\n",
    "    palavras = frase.split()\n",
    "    palavras_filtradas = list(filter(lambda palavra: len(palavra)>=5, palavras))\n",
    "\n",
    "    return palavras_filtradas"
   ]
  },
  {
   "cell_type": "markdown",
   "metadata": {},
   "source": [
    "* Testando a função:"
   ]
  },
  {
   "cell_type": "code",
   "execution_count": 88,
   "metadata": {},
   "outputs": [
    {
     "name": "stdout",
     "output_type": "stream",
     "text": [
      "['Aprender', 'Python', 'Alura', 'muito']\n"
     ]
    }
   ],
   "source": [
    "frase = 'Aprender Python aqui na Alura é muito bom'\n",
    "\n",
    "print(filtrar_palavras(frase))"
   ]
  }
 ],
 "metadata": {
  "kernelspec": {
   "display_name": "venv",
   "language": "python",
   "name": "python3"
  },
  "language_info": {
   "codemirror_mode": {
    "name": "ipython",
    "version": 3
   },
   "file_extension": ".py",
   "mimetype": "text/x-python",
   "name": "python",
   "nbconvert_exporter": "python",
   "pygments_lexer": "ipython3",
   "version": "3.12.4"
  }
 },
 "nbformat": 4,
 "nbformat_minor": 2
}
