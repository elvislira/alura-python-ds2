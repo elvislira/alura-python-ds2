{
 "cells": [
  {
   "cell_type": "markdown",
   "metadata": {},
   "source": [
    "# Desafio - Hora da Prática - Aula 01 - Bibliotecas"
   ]
  },
  {
   "cell_type": "markdown",
   "metadata": {},
   "source": [
    "## Aquecimento"
   ]
  },
  {
   "cell_type": "markdown",
   "metadata": {},
   "source": [
    "1. Escreva um código para instalar a versão 3.7.1 da biblioteca matplotlib."
   ]
  },
  {
   "cell_type": "code",
   "execution_count": 4,
   "metadata": {},
   "outputs": [
    {
     "name": "stdout",
     "output_type": "stream",
     "text": [
      "zsh:fg:1: no job control in this shell.\n"
     ]
    }
   ],
   "source": [
    "!%pip install matplotlib"
   ]
  },
  {
   "cell_type": "markdown",
   "metadata": {},
   "source": [
    "2. Escreva um código para importar a biblioteca numpy com o alias np."
   ]
  },
  {
   "cell_type": "code",
   "execution_count": 5,
   "metadata": {},
   "outputs": [],
   "source": [
    "import numpy as np"
   ]
  },
  {
   "cell_type": "markdown",
   "metadata": {},
   "source": [
    "3. Crie um programa que leia a seguinte lista de números e escolha um número desta aleatoriamente.\n",
    "    \n",
    "    >lista = [8, 12, 54, 23, 43, 1, 90, 87, 105, 77]"
   ]
  },
  {
   "cell_type": "code",
   "execution_count": 14,
   "metadata": {},
   "outputs": [
    {
     "name": "stdout",
     "output_type": "stream",
     "text": [
      "O número escolhido foi: 90\n"
     ]
    }
   ],
   "source": [
    "from random import choice\n",
    "\n",
    "lista = [8, 12, 54, 23, 43, 1, 90, 87, 105, 77]\n",
    "\n",
    "numero_escolhido = choice(lista)\n",
    "\n",
    "print(f'O número escolhido foi: {numero_escolhido}')"
   ]
  },
  {
   "cell_type": "markdown",
   "metadata": {},
   "source": [
    "4. Crie um programa que sorteia, aleatoriamente, um número inteiro positivo menor que 100.\n",
    "    \n",
    "    >**Dica**: use a função randrange() da biblioteca random. Essa função recebe como parâmetro o valor limite para a escolha aleatória ou um intervalo se passado o limite mínimo e máximo. Por exemplo, randrange(5) gera valores inteiros menores que 5."
   ]
  },
  {
   "cell_type": "code",
   "execution_count": 31,
   "metadata": {},
   "outputs": [
    {
     "name": "stdout",
     "output_type": "stream",
     "text": [
      "Número sorteado: 27\n"
     ]
    }
   ],
   "source": [
    "from random import randrange\n",
    "\n",
    "numero_sorteado = randrange(100)\n",
    "\n",
    "print(f'Número sorteado: {numero_sorteado}')"
   ]
  },
  {
   "cell_type": "markdown",
   "metadata": {},
   "source": [
    "5. Crie um programa que solicite à pessoa usuária digitar dois números inteiros e calcular a potência do 1º número elevado ao 2º.\n",
    "\n",
    "    >**Dica**: use a função pow() da biblioteca math"
   ]
  },
  {
   "cell_type": "code",
   "execution_count": 33,
   "metadata": {},
   "outputs": [
    {
     "name": "stdout",
     "output_type": "stream",
     "text": [
      "*** Potenciação ***\n",
      "5 elevado a 3 é igual a 125.0\n"
     ]
    }
   ],
   "source": [
    "from math import pow\n",
    "\n",
    "print('*** Potenciação ***')\n",
    "base = int(input('Digite uma valor para a base: '))\n",
    "expoente = int(input('Digite o valor para o expoente: '))\n",
    "\n",
    "potencia = pow(base, expoente)\n",
    "\n",
    "print(f'{base} elevado a {expoente} é igual a {potencia}')"
   ]
  },
  {
   "cell_type": "markdown",
   "metadata": {},
   "source": [
    "## Aplicando a projetos"
   ]
  },
  {
   "cell_type": "markdown",
   "metadata": {},
   "source": [
    "6. Um programa deve ser escrito para sortear uma pessoa seguidora de uma rede social para ganhar um prêmio. A lista de participantes é numerada e devemos escolher aleatoriamente um número de acordo com a quantidade de participantes. Peça à pessoa usuária para fornecer o número de participantes do sorteio e devolva para ela o número sorteado."
   ]
  },
  {
   "cell_type": "code",
   "execution_count": 42,
   "metadata": {},
   "outputs": [
    {
     "name": "stdout",
     "output_type": "stream",
     "text": [
      "O número sorteado foi: 36\n"
     ]
    }
   ],
   "source": [
    "from random import randrange\n",
    "\n",
    "qtd_participantes = int(input('Informe o número de participantes: '))\n",
    "\n",
    "sorteado = randrange(qtd_participantes + 1)\n",
    "\n",
    "print(f'O número sorteado foi: {sorteado}')"
   ]
  },
  {
   "cell_type": "markdown",
   "metadata": {},
   "source": [
    "7. Você recebeu uma demanda para gerar números de token para acessar o aplicativo de uma empresa. O token precisa ser par e variar de 1000 até 9998. Escreva um código que solicita à pessoa usuária o seu nome e exibe uma mensagem junto a esse token gerado aleatoriamente.\n",
    "\n",
    "    >*\"Olá, [nome], o seu token de acesso é [token]! Seja bem-vindo(a)!\"*"
   ]
  },
  {
   "cell_type": "code",
   "execution_count": 49,
   "metadata": {},
   "outputs": [
    {
     "name": "stdout",
     "output_type": "stream",
     "text": [
      "Olá, Elvis Lira, o seu token de acesso é 3098! Seja bem-vindo(a)!\n"
     ]
    }
   ],
   "source": [
    "from random import randrange\n",
    "\n",
    "token = randrange(1000, 9999, 2)\n",
    "\n",
    "nome = input('Digite seu nome: ')\n",
    "\n",
    "print(f'Olá, {nome}, o seu token de acesso é {token}! Seja bem-vindo(a)!')"
   ]
  },
  {
   "cell_type": "markdown",
   "metadata": {},
   "source": [
    "8. Para diversificar e atrair novos(as) clientes, uma lanchonete criou um item misterioso em seu cardápio chamado \"salada de frutas surpresa\". Neste item, são escolhidas aleatoriamente 3 frutas de uma lista de 12 para compor a salada de frutas da pessoa cliente. Crie o código que faça essa seleção aleatória de acordo com a lista abaixo:\n",
    "\n",
    "    >frutas = [\n",
    "        \"maçã\", \"banana\", \"uva\", \"pêra\", \n",
    "        \"manga\", \"coco\", \"melancia\", \"mamão\",\n",
    "        \"laranja\", \"abacaxi\", \"kiwi\", \"ameixa\"\n",
    "    ]"
   ]
  },
  {
   "cell_type": "code",
   "execution_count": 48,
   "metadata": {},
   "outputs": [
    {
     "name": "stdout",
     "output_type": "stream",
     "text": [
      "Frutas da salada surpresa: ['abacaxi', 'ameixa', 'banana']\n"
     ]
    }
   ],
   "source": [
    "from random import sample\n",
    "\n",
    "frutas = [\n",
    "    \"maçã\", \"banana\", \"uva\", \"pêra\", \n",
    "    \"manga\", \"coco\", \"melancia\", \"mamão\",\n",
    "    \"laranja\", \"abacaxi\", \"kiwi\", \"ameixa\"\n",
    "]\n",
    "\n",
    "salada = sample(frutas, 3)\n",
    "\n",
    "print(f'Frutas da salada surpresa: {salada}')"
   ]
  },
  {
   "cell_type": "markdown",
   "metadata": {},
   "source": [
    "9. Você recebeu um desafio de calcular a raiz quadrada de uma lista de números, identificando quais resultaram em um número inteiro. A lista é a seguinte:\n",
    "\n",
    "    >numeros = [2, 8, 15, 23, 91, 112, 256]\n",
    "\n",
    "    No final, informe quais números possuem raízes inteiras e seus respectivos valores.\n",
    "\n",
    "    >**Dica**: use a comparação entre a divisão inteira (//) da raiz por 1 com o valor da raiz para verificar se o número é inteiro. "
   ]
  },
  {
   "cell_type": "code",
   "execution_count": 56,
   "metadata": {},
   "outputs": [
    {
     "name": "stdout",
     "output_type": "stream",
     "text": [
      "A raiz quadrada de 256 é 16.0\n"
     ]
    }
   ],
   "source": [
    "from math import sqrt\n",
    "\n",
    "numeros = [2, 8, 15, 23, 91, 112, 256]\n",
    "\n",
    "for numero in numeros:\n",
    "    raiz = sqrt(numero)\n",
    "\n",
    "    if raiz//1 == raiz:\n",
    "        print(f'A raiz quadrada de {numero} é {raiz}')"
   ]
  },
  {
   "cell_type": "markdown",
   "metadata": {},
   "source": [
    "10. Faça um programa para uma loja que vende grama para jardins. Essa loja trabalha com jardins circulares e o preço do metro quadrado da grama é de R$ 25,00. Peça à pessoa usuária o raio da área circular e devolva o valor em reais do quanto precisará pagar.\n",
    "\n",
    "    >**Dica**: use a variável *pi* e o método pow() da biblioteca math. O cálculo da área de um círculo é de: *A = π*r^2* (lê-se pi vezes raio ao quadrado)."
   ]
  },
  {
   "cell_type": "code",
   "execution_count": 65,
   "metadata": {},
   "outputs": [
    {
     "name": "stdout",
     "output_type": "stream",
     "text": [
      "Valor a ser pago: R$314.16\n"
     ]
    }
   ],
   "source": [
    "from math import pi, pow\n",
    "\n",
    "PRECO_METRO_QUADRADO = 25.0\n",
    "\n",
    "raio_area = float(input('Informe o raio da área desejada: '))\n",
    "\n",
    "area = pi * pow(raio_area, 2)\n",
    "valor_pagar = round(area * PRECO_METRO_QUADRADO, 2)\n",
    "\n",
    "print(f'Valor a ser pago: R${valor_pagar:.2f}')"
   ]
  }
 ],
 "metadata": {
  "kernelspec": {
   "display_name": "venv",
   "language": "python",
   "name": "python3"
  },
  "language_info": {
   "codemirror_mode": {
    "name": "ipython",
    "version": 3
   },
   "file_extension": ".py",
   "mimetype": "text/x-python",
   "name": "python",
   "nbconvert_exporter": "python",
   "pygments_lexer": "ipython3",
   "version": "3.12.4"
  }
 },
 "nbformat": 4,
 "nbformat_minor": 2
}
