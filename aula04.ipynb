{
 "cells": [
  {
   "cell_type": "markdown",
   "metadata": {},
   "source": [
    "# Desafio - Hora da Prática - Aula 04 - Lidando com Exceções"
   ]
  },
  {
   "cell_type": "markdown",
   "metadata": {},
   "source": [
    "## Aquecimento"
   ]
  },
  {
   "cell_type": "markdown",
   "metadata": {},
   "source": [
    "1. Faça um programa que solicite à pessoa usuária digitar dois números float e calcular a divisão entre esses números. O código deve conter um tratamento de erro, indicando o tipo de erro que foi gerado caso a divisão não seja possível de realizar.\n",
    "\n",
    "    Teste o programa com o segundo valor numérico do input igual a 0. Também teste utilizando caracteres textuais no input para checar os tipos de erro que ocorrem."
   ]
  },
  {
   "cell_type": "code",
   "execution_count": 10,
   "metadata": {},
   "outputs": [
    {
     "name": "stdout",
     "output_type": "stream",
     "text": [
      "Os valores devem ser numéricos!\n"
     ]
    }
   ],
   "source": [
    "numero1 = input('Digie um número fracionário: ')\n",
    "numero2 = input('Digite um segundo número fracionário: ')\n",
    "\n",
    "try:\n",
    "    resultado = float(numero1) / float(numero2)\n",
    "except ValueError:\n",
    "    print('Os valores devem ser numéricos!')\n",
    "except ZeroDivisionError:\n",
    "    print('Não é permitido divisão por zero!')\n",
    "else:\n",
    "    print(f'{numero1} / {numero2} = {resultado}')"
   ]
  },
  {
   "cell_type": "markdown",
   "metadata": {},
   "source": [
    "2. Faça um programa que solicite à pessoa usuária digitar um texto que será uma chave a ser pesquisada no seguinte dicionário: idades = {'Júlia': 16, 'Carol': 23, 'Alberto': 19, 'Roberta': 17}, armazenando o resultado do valor em uma variável. O código deve conter um tratamento de erro KeyError, imprimindo a informação 'Nome não encontrado', caso ocorra o erro; e imprimir o valor caso não ocorra nenhum.\n",
    "\n",
    "    Teste o programa com um nome presente em uma das chaves do dicionário e com um que não esteja no dicionário para verificar a mensagem de erro."
   ]
  },
  {
   "cell_type": "code",
   "execution_count": 15,
   "metadata": {},
   "outputs": [
    {
     "name": "stdout",
     "output_type": "stream",
     "text": [
      "16\n"
     ]
    }
   ],
   "source": [
    "idades = {'Júlia': 16, 'Carol': 23, 'Alberto': 19, 'Roberta': 17}\n",
    "\n",
    "try:\n",
    "    nome = input('Digite o nome a ser procurado: ')\n",
    "    valor = idades[nome]\n",
    "except KeyError:\n",
    "    print(f'{nome} não foi encontrado no cadastro!')\n",
    "else:\n",
    "    print(valor)"
   ]
  },
  {
   "cell_type": "markdown",
   "metadata": {},
   "source": [
    "3. Crie uma função que recebe uma lista como parâmetro e converta todos os valores da lista para float. A função deve conter um tratamento de erro indicando o tipo de erro gerado e retornar a lista caso não tenha ocorrido nenhum erro. Por fim, deve ter a cláusula finally para imprimir o texto: 'Fim da execução da função'."
   ]
  },
  {
   "cell_type": "code",
   "execution_count": 24,
   "metadata": {},
   "outputs": [],
   "source": [
    "def converte(lista: list):\n",
    "    try:\n",
    "        lista_convertida = list(map(lambda valor: float(valor), lista))\n",
    "    except ValueError:\n",
    "        print('Só é permitido a conversão de valores numéricos.')\n",
    "    else:\n",
    "        return lista_convertida\n",
    "    finally:\n",
    "        print('Fim da execução da função')"
   ]
  },
  {
   "cell_type": "code",
   "execution_count": 29,
   "metadata": {},
   "outputs": [
    {
     "name": "stdout",
     "output_type": "stream",
     "text": [
      "Fim da execução da função\n",
      "[10.0, 5.5, 9.0, 15.0, 1.0]\n"
     ]
    }
   ],
   "source": [
    "entrada = [10, '5.5', '9', 15, '1']\n",
    "\n",
    "floats = converte(entrada)\n",
    "\n",
    "if floats:\n",
    "    print(floats)"
   ]
  },
  {
   "cell_type": "markdown",
   "metadata": {},
   "source": [
    "4. Crie uma função que recebe duas listas como parâmetros e agrupe os elementos um a um das listas, formando uma lista de tuplas de 3 elementos, no qual o primeiro e segundo elemento da tupla são os valores na posição i das listas e o terceiro elemento é a soma dos valores na posição i das listas.\n",
    "\n",
    "    A função deve conter um tratamento de erro indicando o tipo de erro gerado e retornar como resultado a lista de tuplas. Caso as listas enviadas como parâmetro tenham tamanhos diferentes, a função deve retornar um IndexError com a frase: 'A quantidade de elementos em cada lista é diferente.' Dados para testar a função:\n",
    "\n",
    "    * Valores sem erro:\n",
    "\n",
    "        lista1 = [4,6,7,9,10]\n",
    "\n",
    "        lista2 = [-4,6,8,7,9]\n",
    "    \n",
    "    * Listas com tamanhos diferentes:\n",
    "\n",
    "        lista1 = [4,6,7,9,10,4]\n",
    "\n",
    "        lista2 = [-4,6,8,7,9]\n",
    "    \n",
    "    * Listas com valores incoerentes:\n",
    "\n",
    "        lista1 = [4,6,7,9,'A']\n",
    "        \n",
    "        lista2 = [-4,'E',8,7,9]"
   ]
  },
  {
   "cell_type": "code",
   "execution_count": 34,
   "metadata": {},
   "outputs": [],
   "source": [
    "def agrupa(lista1: list, lista2: list) -> list:\n",
    "    try:\n",
    "        if len(lista1) != len(lista2):\n",
    "            raise IndexError('A quantidade de elementos em cada lista é diferente.')\n",
    "        \n",
    "        retorno = [(lista1[i], lista2[i], lista1[i] + lista2[i]) for i in range(len(lista1))]\n",
    "    except IndexError as e:\n",
    "        print(e)\n",
    "    except TypeError:\n",
    "        print('Os valores devem ser numéricos.')\n",
    "    else:\n",
    "        return retorno"
   ]
  },
  {
   "cell_type": "code",
   "execution_count": 35,
   "metadata": {},
   "outputs": [
    {
     "name": "stdout",
     "output_type": "stream",
     "text": [
      "[(4, -4, 0), (6, 6, 12), (7, 8, 15), (9, 7, 16), (10, 9, 19)]\n"
     ]
    }
   ],
   "source": [
    "lista1 = [4,6,7,9,10]\n",
    "lista2 = [-4,6,8,7,9]\n",
    "\n",
    "resultado = agrupa(lista1, lista2)\n",
    "\n",
    "if resultado:\n",
    "    print(resultado)"
   ]
  },
  {
   "cell_type": "code",
   "execution_count": 36,
   "metadata": {},
   "outputs": [
    {
     "name": "stdout",
     "output_type": "stream",
     "text": [
      "A quantidade de elementos em cada lista é diferente.\n"
     ]
    }
   ],
   "source": [
    "lista1 = [4,6,7,9,10,4]\n",
    "lista2 = [-4,6,8,7,9]\n",
    "\n",
    "resultado = agrupa(lista1, lista2)\n",
    "\n",
    "if resultado:\n",
    "    print(resultado)"
   ]
  },
  {
   "cell_type": "code",
   "execution_count": 37,
   "metadata": {},
   "outputs": [
    {
     "name": "stdout",
     "output_type": "stream",
     "text": [
      "Os valores devem ser numéricos.\n"
     ]
    }
   ],
   "source": [
    "lista1 = [4,6,7,9,'A']\n",
    "lista2 = [-4,'E',8,7,9]\n",
    "\n",
    "resultado = agrupa(lista1, lista2)\n",
    "\n",
    "if resultado:\n",
    "    print(resultado)"
   ]
  },
  {
   "cell_type": "markdown",
   "metadata": {},
   "source": [
    "## Aplicando a projetos"
   ]
  },
  {
   "cell_type": "markdown",
   "metadata": {},
   "source": [
    "5. Como desafio, você recebeu a tarefa de desenvolver um código que contabiliza as pontuações de estudantes de uma instituição de ensino de acordo com suas respostas num teste. Este código deve ser testado para um exemplo de 3 estudantes com uma lista de listas em que cada lista possui as respostas de 5 questões objetivas de cada estudante. Cada questão vale um ponto e as alternativas possíveis são A, B, C ou D.\n",
    "\n",
    "    Caso alguma alternativa em um dos testes não esteja entre as alternativas possíveis, você deve lançar um ValueError com a mensagem \"A alternativa [alternativa] não é uma opção de alternativa válida\". O cálculo das 3 notas só será realizado mediante as entradas com as alternativas A, B, C ou D em todos os testes. Se não for lançada a exceção, será exibida uma lista com as notas em cada teste.\n",
    "\n",
    "    Os dados para o teste do código são:\n",
    "\n",
    "    * Gabarito da prova:\n",
    "\n",
    "        gabarito = ['D', 'A', 'B', 'C', 'A']\n",
    "    \n",
    "    Abaixo temos 2 listas de listas que você pode usar como teste\n",
    "\n",
    "    * Notas sem exceção:\n",
    "\n",
    "        testes_sem_ex = [['D', 'A', 'B', 'C', 'A'], ['C', 'A', 'A', 'C', 'A'], ['D', 'B', 'A', 'C', 'A']]\n",
    "    \n",
    "    * Notas com exceção:\n",
    "    \n",
    "        testes_com_ex = [['D', 'A', 'B', 'C', 'A'], ['C', 'A', 'A', 'E', 'A'], ['D', 'B', 'A', 'C', 'A']]\n",
    "    \n",
    "    >**Dica**: Para verificar se uma entrada da lista não está entre as alternativas possíveis, use a estrutura lista[i] not in ['A','B','C','D']. Por exemplo, 1 not in [2,3,4]... Saída: True."
   ]
  },
  {
   "cell_type": "code",
   "execution_count": 55,
   "metadata": {},
   "outputs": [],
   "source": [
    "def calcula_nota(respostas: list):\n",
    "    RESPOSTAS_VALIDAS = ['A', 'B', 'C', 'D']\n",
    "    GABARITO = ['D', 'A', 'B', 'C', 'A']\n",
    "    \n",
    "    nota = 0\n",
    "\n",
    "    try:\n",
    "        for resp, gab in zip(respostas, GABARITO):\n",
    "            if resp not in RESPOSTAS_VALIDAS:\n",
    "                raise ValueError(f'A alternativa {resp} não é uma opção de alternativa válida')\n",
    "            else:\n",
    "                if resp == gab:\n",
    "                    nota += 1\n",
    "    except ValueError as e:\n",
    "        print(e)\n",
    "    else:\n",
    "        return nota"
   ]
  },
  {
   "cell_type": "code",
   "execution_count": 56,
   "metadata": {},
   "outputs": [
    {
     "name": "stdout",
     "output_type": "stream",
     "text": [
      "[5, 3, 3]\n"
     ]
    }
   ],
   "source": [
    "testes_sem_ex = [['D', 'A', 'B', 'C', 'A'], ['C', 'A', 'A', 'C', 'A'], ['D', 'B', 'A', 'C', 'A']]\n",
    "\n",
    "notas = [calcula_nota(notas) for notas in testes_sem_ex]\n",
    "\n",
    "if notas:\n",
    "    print(notas)"
   ]
  },
  {
   "cell_type": "code",
   "execution_count": 60,
   "metadata": {},
   "outputs": [
    {
     "name": "stdout",
     "output_type": "stream",
     "text": [
      "A alternativa E não é uma opção de alternativa válida\n"
     ]
    }
   ],
   "source": [
    "testes_com_ex = [['D', 'A', 'B', 'C', 'A'], ['C', 'A', 'A', 'E', 'A'], ['D', 'B', 'A', 'C', 'A']]\n",
    "\n",
    "notas = [calcula_nota(notas) for notas in testes_com_ex]\n",
    "\n",
    "if None not in notas:\n",
    "    print(notas)"
   ]
  },
  {
   "cell_type": "markdown",
   "metadata": {},
   "source": [
    "6. Você está trabalhando com processamento de linguagem natural (NLP) e, dessa vez, sua líder requisitou que você criasse um trecho de código que recebe uma lista com as palavras separadas de uma frase gerada pelo ChatGPT.\n",
    "\n",
    "    Você precisa criar uma função que avalia cada palavra desse texto e verificar se o tratamento para retirar os símbolos de pontuação (',' '.', '!' e '?') foi realizado. Caso contrário, será lançada uma exceção do tipo ValueError apontando o 1º caso em que foi detectado o uso de uma pontuação por meio da frase \"O texto apresenta pontuações na palavra \"[palavra]\".\". Essa demanda é voltada para a análise do padrão de frases geradas pela inteligência artificial.\n",
    "\n",
    "    >**Dica**: Para verificar se uma ou mais das pontuações estão presentes em cada palavra, utilize a palavra chave or na condição if. Por exemplo, 'a' in 'alura' or 'b' in 'alura'… Saída: True\n",
    "\n",
    "    Os dados para o teste do código são:\n",
    "\n",
    "    * Lista tratada:\n",
    "\n",
    "        lista_tratada = ['Python', 'é', 'uma', 'linguagem', 'de', 'programação', 'poderosa', 'versátil',\n",
    "            'e', 'fácil', 'de', 'aprender', 'utilizada', 'em', 'diversos', 'campos', 'desde',\n",
    "            'análise', 'de', 'dados', 'até', 'inteligência', 'artificial']\n",
    "\n",
    "    * Lista não tratada:\n",
    "\n",
    "        lista_nao_tratada = ['Python', 'é', 'uma', 'linguagem', 'de', 'programação', 'poderosa,', 'versátil',\n",
    "            'e', 'fácil,', 'de', 'aprender', 'utilizada', 'em', 'diversos', 'campos,', 'desde',\n",
    "            'análise', 'de', 'dados', 'até', 'inteligência', 'artificial!']"
   ]
  },
  {
   "cell_type": "markdown",
   "metadata": {},
   "source": [
    "* Função para validar uma palavra"
   ]
  },
  {
   "cell_type": "code",
   "execution_count": 67,
   "metadata": {},
   "outputs": [],
   "source": [
    "def is_valida(palavra: str) -> bool:\n",
    "    caracteres_especiais = [',', '.', '!', '?']\n",
    "\n",
    "    for caracter in list(palavra):\n",
    "        if caracter in caracteres_especiais:\n",
    "            return False\n",
    "    return True"
   ]
  },
  {
   "cell_type": "markdown",
   "metadata": {},
   "source": [
    "* Função para verificar a lista de palavras"
   ]
  },
  {
   "cell_type": "code",
   "execution_count": 73,
   "metadata": {},
   "outputs": [],
   "source": [
    "def valida_palavras(palavras: list) -> str:\n",
    "    for palavra in palavras:\n",
    "        if not is_valida(palavra):\n",
    "            raise ValueError(f'O texto apresenta pontuações na palavra \"{palavra}\".')\n",
    "    \n",
    "    return 'Texto já tratado!'"
   ]
  },
  {
   "cell_type": "markdown",
   "metadata": {},
   "source": [
    "* Testando com uma lista tratada:"
   ]
  },
  {
   "cell_type": "code",
   "execution_count": 74,
   "metadata": {},
   "outputs": [
    {
     "name": "stdout",
     "output_type": "stream",
     "text": [
      "Texto já tratado!\n"
     ]
    }
   ],
   "source": [
    "lista_tratada = [\n",
    "    'Python', 'é', 'uma', 'linguagem', 'de', 'programação', 'poderosa', 'versátil',\n",
    "    'e', 'fácil', 'de', 'aprender', 'utilizada', 'em', 'diversos', 'campos', 'desde',\n",
    "    'análise', 'de', 'dados', 'até', 'inteligência', 'artificial'\n",
    "]\n",
    "\n",
    "try:\n",
    "    resultado = valida_palavras(lista_tratada)\n",
    "except ValueError as e:\n",
    "    print(e)\n",
    "else:\n",
    "    print(resultado)"
   ]
  },
  {
   "cell_type": "markdown",
   "metadata": {},
   "source": [
    "* Testando com uma lista não tratada:"
   ]
  },
  {
   "cell_type": "code",
   "execution_count": 77,
   "metadata": {},
   "outputs": [
    {
     "name": "stdout",
     "output_type": "stream",
     "text": [
      "O texto apresenta pontuações na palavra \"poderosa,\".\n"
     ]
    }
   ],
   "source": [
    "lista_nao_tratada = [\n",
    "    'Python', 'é', 'uma', 'linguagem', 'de', 'programação', 'poderosa,', 'versátil',\n",
    "    'e', 'fácil,', 'de', 'aprender', 'utilizada', 'em', 'diversos', 'campos,', 'desde',\n",
    "    'análise', 'de', 'dados', 'até', 'inteligência', 'artificial!'\n",
    "]\n",
    "\n",
    "try:\n",
    "    resultado = valida_palavras(lista_nao_tratada)\n",
    "except ValueError as e:\n",
    "    print(e)\n",
    "else:\n",
    "    print(resultado)"
   ]
  },
  {
   "cell_type": "markdown",
   "metadata": {},
   "source": [
    "7. Você foi contratado(a) como uma pessoa cientista de dados para auxiliar um laboratório que faz experimentos sobre o comportamento de uma cultura de fungos. O laboratório precisa avaliar constantemente a razão (divisão) entre os dados de pressão e temperatura do ambiente controlado recolhidos durante a experimentação para definir a melhor condição para os testes.\n",
    "\n",
    "    Para cumprir com a demanda, você precisa criar uma função divide_colunas que recebe os dados das colunas de pressão e temperatura (que vem no formato de listas) e gerar uma nova coluna com o resultado da divisão. Os parâmetros da função são as duas listas e você deve tratar dentro dela ao menos 2 tipos de exceções:\n",
    "\n",
    "    * Verificar se as listas têm o mesmo tamanho (ValueError)\n",
    "    * Verificar se existe alguma divisão por zero (ZeroDivisionError)\n",
    "    \n",
    "    Para testar a função, vamos realizar a divisão entre duas listas de dados coletados no experimento, com os valores de pressão e temperatura do ambiente controlado.\n",
    "\n",
    "    Como teste, use os seguintes dados:\n",
    "\n",
    "    * Dados sem exceção:\n",
    "        pressoes = [100, 120, 140, 160, 180]\n",
    "\n",
    "        temperaturas = [20, 25, 30, 35, 40]\n",
    "    \n",
    "    * Dados com exceção:\n",
    "        1. Exceção de ZeroDivisionError\n",
    "\n",
    "            pressoes = [60, 120, 140, 160, 180]\n",
    "            \n",
    "            temperaturas = [0, 25, 30, 35, 40]\n",
    "        \n",
    "        2. Exceção de ValueError\n",
    "\n",
    "            pressoes = [100, 120, 140, 160]\n",
    "\n",
    "            temperaturas = [20, 25, 30, 35, 40]\n",
    "\n",
    "    >**Dica**: Você pode usar zip() para parear os dados da lista_1 com a lista_2. Crie uma estrutura try-except que caso uma das exceções sejam lançadas, podemos ver o tipo de erro na saída."
   ]
  },
  {
   "cell_type": "code",
   "execution_count": 84,
   "metadata": {},
   "outputs": [],
   "source": [
    "def divide_colunas(pressoes: list, temperaturas: list) -> list:\n",
    "    try:\n",
    "        if len(pressoes) != len(temperaturas):\n",
    "            raise ValueError('As listas devem ter o mesmo tamanho!')\n",
    "        \n",
    "        retorno = [round(pressao / temperatura, 2) for pressao, temperatura in zip(pressoes, temperaturas)]\n",
    "    except ValueError as e:\n",
    "        print(e)\n",
    "    except ZeroDivisionError:\n",
    "        print('Nenhuma temperatura pode ser zero!')\n",
    "    else:\n",
    "        return retorno\n"
   ]
  },
  {
   "cell_type": "markdown",
   "metadata": {},
   "source": [
    "* Testando com dados sem exceção:"
   ]
  },
  {
   "cell_type": "code",
   "execution_count": 85,
   "metadata": {},
   "outputs": [
    {
     "name": "stdout",
     "output_type": "stream",
     "text": [
      "[5.0, 4.8, 4.67, 4.57, 4.5]\n"
     ]
    }
   ],
   "source": [
    "pressoes = [100, 120, 140, 160, 180]\n",
    "temperaturas = [20, 25, 30, 35, 40]\n",
    "\n",
    "resultado = divide_colunas(pressoes, temperaturas)\n",
    "\n",
    "print(resultado)"
   ]
  },
  {
   "cell_type": "markdown",
   "metadata": {},
   "source": [
    "* Testando com dados com exceção (Divisão por zero):"
   ]
  },
  {
   "cell_type": "code",
   "execution_count": 86,
   "metadata": {},
   "outputs": [
    {
     "name": "stdout",
     "output_type": "stream",
     "text": [
      "Nenhuma temperatura pode ser zero!\n"
     ]
    }
   ],
   "source": [
    "pressoes = [60, 120, 140, 160, 180]\n",
    "temperaturas = [0, 25, 30, 35, 40]\n",
    "\n",
    "resultado = divide_colunas(pressoes, temperaturas)\n",
    "\n",
    "if resultado:\n",
    "    print(resultado)"
   ]
  },
  {
   "cell_type": "markdown",
   "metadata": {},
   "source": [
    "* Testando com dados com exceção (dados com tamanhos diferentes):"
   ]
  },
  {
   "cell_type": "code",
   "execution_count": 87,
   "metadata": {},
   "outputs": [
    {
     "name": "stdout",
     "output_type": "stream",
     "text": [
      "As listas devem ter o mesmo tamanho!\n"
     ]
    }
   ],
   "source": [
    "pressoes = [100, 120, 140, 160]\n",
    "temperaturas = [20, 25, 30, 35, 40]\n",
    "\n",
    "resultado = divide_colunas(pressoes, temperaturas)\n",
    "\n",
    "if resultado:\n",
    "    print(resultado)"
   ]
  }
 ],
 "metadata": {
  "kernelspec": {
   "display_name": "venv",
   "language": "python",
   "name": "python3"
  },
  "language_info": {
   "codemirror_mode": {
    "name": "ipython",
    "version": 3
   },
   "file_extension": ".py",
   "mimetype": "text/x-python",
   "name": "python",
   "nbconvert_exporter": "python",
   "pygments_lexer": "ipython3",
   "version": "3.12.4"
  }
 },
 "nbformat": 4,
 "nbformat_minor": 2
}
