{
 "cells": [
  {
   "cell_type": "markdown",
   "metadata": {},
   "source": [
    "# Experimentos"
   ]
  },
  {
   "cell_type": "markdown",
   "metadata": {},
   "source": [
    "* Incrementar uma lista de valores em 0.5 (cada valor) usando map e lambda:"
   ]
  },
  {
   "cell_type": "code",
   "execution_count": 2,
   "metadata": {},
   "outputs": [],
   "source": [
    "from random import randrange\n",
    "\n",
    "def gerar_lista_inteiros(quantidade: int = 10) -> list:\n",
    "    lista = []\n",
    "\n",
    "    for i in range(quantidade):\n",
    "        lista.append(randrange(100))\n",
    "    \n",
    "    return lista"
   ]
  },
  {
   "cell_type": "code",
   "execution_count": 3,
   "metadata": {},
   "outputs": [
    {
     "name": "stdout",
     "output_type": "stream",
     "text": [
      "[58, 44, 30, 13, 39, 98, 0, 91, 41, 39, 40, 93, 97, 42, 39]\n",
      "[58.5, 44.5, 30.5, 13.5, 39.5, 98.5, 0.5, 91.5, 41.5, 39.5, 40.5, 93.5, 97.5, 42.5, 39.5]\n"
     ]
    }
   ],
   "source": [
    "lista_numeros = gerar_lista_inteiros(15)\n",
    "print(lista_numeros)\n",
    "lista_numeros_incrementados = map(lambda x: x+0.5, lista_numeros)\n",
    "print(list(lista_numeros_incrementados))"
   ]
  },
  {
   "cell_type": "markdown",
   "metadata": {},
   "source": [
    "* Dada uma lista contendo temperaturas em Celsius, gerar uma lista contendo essas mesmas temperaturas convertidas em Fahrenheit:"
   ]
  },
  {
   "cell_type": "code",
   "execution_count": 5,
   "metadata": {},
   "outputs": [
    {
     "name": "stdout",
     "output_type": "stream",
     "text": [
      "[32.0, 77.0, 98.6, 172.4, 212.0]\n"
     ]
    }
   ],
   "source": [
    "temperaturas_celsius = [0, 25, 37, 78, 100]\n",
    "temperaturas_fahrenheit = map(lambda c: c * 9 / 5 + 32, temperaturas_celsius)\n",
    "\n",
    "print(list(temperaturas_fahrenheit))"
   ]
  },
  {
   "cell_type": "markdown",
   "metadata": {},
   "source": [
    "* Recebemos a demanda de transformar uma lista com o nome e as notas dos três trimestres de estudantes em uma lista simples com os nomes separados das notas e uma lista de listas com as três notas de cada estudante separadas umas das outras."
   ]
  },
  {
   "cell_type": "code",
   "execution_count": 11,
   "metadata": {},
   "outputs": [
    {
     "name": "stdout",
     "output_type": "stream",
     "text": [
      "['João', 'Maria', 'José', 'Cláudia', 'Ana']\n",
      "[[8.0, 9.0, 10.0], [9.0, 7.0, 6.0], [3.4, 7.0, 7.0], [5.5, 6.6, 8.0], [6.0, 10.0, 9.5]]\n"
     ]
    }
   ],
   "source": [
    "notas_turma = ['João', 8.0, 9.0, 10.0, 'Maria', 9.0, 7.0, 6.0, 'José', 3.4, 7.0, 7.0, 'Cláudia', 5.5, 6.6, 8.0, 'Ana', 6.0, 10.0, 9.5]\n",
    "\n",
    "alunos_nomes = [item for item in notas_turma if isinstance(item, str)]\n",
    "notas_juntas = [item for item in notas_turma if isinstance(item, float)]\n",
    "alunos_notas = [[notas_juntas[i], notas_juntas[i+1], notas_juntas[i+2]] for i in range(0, len(notas_juntas), 3)]\n",
    "\n",
    "print(alunos_nomes)\n",
    "print(alunos_notas)"
   ]
  },
  {
   "cell_type": "code",
   "execution_count": 12,
   "metadata": {},
   "outputs": [
    {
     "data": {
      "text/plain": [
       "[('João', [8.0, 9.0, 10.0]),\n",
       " ('Maria', [9.0, 7.0, 6.0]),\n",
       " ('José', [3.4, 7.0, 7.0]),\n",
       " ('Cláudia', [5.5, 6.6, 8.0]),\n",
       " ('Ana', [6.0, 10.0, 9.5])]"
      ]
     },
     "execution_count": 12,
     "metadata": {},
     "output_type": "execute_result"
    }
   ],
   "source": [
    "estudantes = list(zip(alunos_nomes, alunos_notas))\n",
    "estudantes"
   ]
  },
  {
   "cell_type": "code",
   "execution_count": 14,
   "metadata": {},
   "outputs": [
    {
     "name": "stdout",
     "output_type": "stream",
     "text": [
      "('João', 'Maria', 'José', 'Cláudia', 'Ana')\n",
      "([8.0, 9.0, 10.0], [9.0, 7.0, 6.0], [3.4, 7.0, 7.0], [5.5, 6.6, 8.0], [6.0, 10.0, 9.5])\n"
     ]
    }
   ],
   "source": [
    "nomes, notas = zip(*estudantes)\n",
    "print(nomes)\n",
    "print(notas)"
   ]
  },
  {
   "cell_type": "code",
   "execution_count": 15,
   "metadata": {},
   "outputs": [
    {
     "name": "stdout",
     "output_type": "stream",
     "text": [
      "[22.5, 24.7, 21.3, 22.9, 26.3]\n"
     ]
    }
   ],
   "source": [
    "alturas = [1.70, 1.80, 1.65, 1.75, 1.90]\n",
    "pesos = [65, 80, 58, 70, 95]\n",
    "\n",
    "imc = [round((peso / altura**2), 1) for altura, peso in zip(alturas, pesos)]\n",
    "print(imc)"
   ]
  },
  {
   "cell_type": "code",
   "execution_count": null,
   "metadata": {},
   "outputs": [],
   "source": []
  }
 ],
 "metadata": {
  "kernelspec": {
   "display_name": "venv",
   "language": "python",
   "name": "python3"
  },
  "language_info": {
   "codemirror_mode": {
    "name": "ipython",
    "version": 3
   },
   "file_extension": ".py",
   "mimetype": "text/x-python",
   "name": "python",
   "nbconvert_exporter": "python",
   "pygments_lexer": "ipython3",
   "version": "3.12.4"
  }
 },
 "nbformat": 4,
 "nbformat_minor": 2
}
