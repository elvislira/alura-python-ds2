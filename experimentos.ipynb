{
 "cells": [
  {
   "cell_type": "markdown",
   "metadata": {},
   "source": [
    "# Experimentos"
   ]
  },
  {
   "cell_type": "markdown",
   "metadata": {},
   "source": [
    "* Incrementar uma lista de valores em 0.5 (cada valor) usando map e lambda:"
   ]
  },
  {
   "cell_type": "code",
   "execution_count": 2,
   "metadata": {},
   "outputs": [],
   "source": [
    "from random import randrange\n",
    "\n",
    "def gerar_lista_inteiros(quantidade: int = 10) -> list:\n",
    "    lista = []\n",
    "\n",
    "    for i in range(quantidade):\n",
    "        lista.append(randrange(100))\n",
    "    \n",
    "    return lista"
   ]
  },
  {
   "cell_type": "code",
   "execution_count": 3,
   "metadata": {},
   "outputs": [
    {
     "name": "stdout",
     "output_type": "stream",
     "text": [
      "[58, 44, 30, 13, 39, 98, 0, 91, 41, 39, 40, 93, 97, 42, 39]\n",
      "[58.5, 44.5, 30.5, 13.5, 39.5, 98.5, 0.5, 91.5, 41.5, 39.5, 40.5, 93.5, 97.5, 42.5, 39.5]\n"
     ]
    }
   ],
   "source": [
    "lista_numeros = gerar_lista_inteiros(15)\n",
    "print(lista_numeros)\n",
    "lista_numeros_incrementados = map(lambda x: x+0.5, lista_numeros)\n",
    "print(list(lista_numeros_incrementados))"
   ]
  },
  {
   "cell_type": "markdown",
   "metadata": {},
   "source": [
    "* Dada uma lista contendo temperaturas em Celsius, gerar uma lista contendo essas mesmas temperaturas convertidas em Fahrenheit:"
   ]
  },
  {
   "cell_type": "code",
   "execution_count": 5,
   "metadata": {},
   "outputs": [
    {
     "name": "stdout",
     "output_type": "stream",
     "text": [
      "[32.0, 77.0, 98.6, 172.4, 212.0]\n"
     ]
    }
   ],
   "source": [
    "temperaturas_celsius = [0, 25, 37, 78, 100]\n",
    "temperaturas_fahrenheit = map(lambda c: c * 9 / 5 + 32, temperaturas_celsius)\n",
    "\n",
    "print(list(temperaturas_fahrenheit))"
   ]
  },
  {
   "cell_type": "markdown",
   "metadata": {},
   "source": [
    "* Recebemos a demanda de transformar uma lista com o nome e as notas dos três trimestres de estudantes em uma lista simples com os nomes separados das notas e uma lista de listas com as três notas de cada estudante separadas umas das outras."
   ]
  },
  {
   "cell_type": "code",
   "execution_count": 11,
   "metadata": {},
   "outputs": [
    {
     "name": "stdout",
     "output_type": "stream",
     "text": [
      "['João', 'Maria', 'José', 'Cláudia', 'Ana']\n",
      "[[8.0, 9.0, 10.0], [9.0, 7.0, 6.0], [3.4, 7.0, 7.0], [5.5, 6.6, 8.0], [6.0, 10.0, 9.5]]\n"
     ]
    }
   ],
   "source": [
    "notas_turma = ['João', 8.0, 9.0, 10.0, 'Maria', 9.0, 7.0, 6.0, 'José', 3.4, 7.0, 7.0, 'Cláudia', 5.5, 6.6, 8.0, 'Ana', 6.0, 10.0, 9.5]\n",
    "\n",
    "alunos_nomes = [item for item in notas_turma if isinstance(item, str)]\n",
    "notas_juntas = [item for item in notas_turma if isinstance(item, float)]\n",
    "alunos_notas = [[notas_juntas[i], notas_juntas[i+1], notas_juntas[i+2]] for i in range(0, len(notas_juntas), 3)]\n",
    "\n",
    "print(alunos_nomes)\n",
    "print(alunos_notas)"
   ]
  },
  {
   "cell_type": "code",
   "execution_count": 12,
   "metadata": {},
   "outputs": [
    {
     "data": {
      "text/plain": [
       "[('João', [8.0, 9.0, 10.0]),\n",
       " ('Maria', [9.0, 7.0, 6.0]),\n",
       " ('José', [3.4, 7.0, 7.0]),\n",
       " ('Cláudia', [5.5, 6.6, 8.0]),\n",
       " ('Ana', [6.0, 10.0, 9.5])]"
      ]
     },
     "execution_count": 12,
     "metadata": {},
     "output_type": "execute_result"
    }
   ],
   "source": [
    "estudantes = list(zip(alunos_nomes, alunos_notas))\n",
    "estudantes"
   ]
  },
  {
   "cell_type": "code",
   "execution_count": 14,
   "metadata": {},
   "outputs": [
    {
     "name": "stdout",
     "output_type": "stream",
     "text": [
      "('João', 'Maria', 'José', 'Cláudia', 'Ana')\n",
      "([8.0, 9.0, 10.0], [9.0, 7.0, 6.0], [3.4, 7.0, 7.0], [5.5, 6.6, 8.0], [6.0, 10.0, 9.5])\n"
     ]
    }
   ],
   "source": [
    "nomes, notas = zip(*estudantes)\n",
    "print(nomes)\n",
    "print(notas)"
   ]
  },
  {
   "cell_type": "code",
   "execution_count": 15,
   "metadata": {},
   "outputs": [
    {
     "name": "stdout",
     "output_type": "stream",
     "text": [
      "[22.5, 24.7, 21.3, 22.9, 26.3]\n"
     ]
    }
   ],
   "source": [
    "alturas = [1.70, 1.80, 1.65, 1.75, 1.90]\n",
    "pesos = [65, 80, 58, 70, 95]\n",
    "\n",
    "imc = [round((peso / altura**2), 1) for altura, peso in zip(alturas, pesos)]\n",
    "print(imc)"
   ]
  },
  {
   "cell_type": "markdown",
   "metadata": {},
   "source": [
    "* Gerar um dicionário a partir da lista da lista abaixo para passá-la à pessoa responsável por construir as tabelas, possibilitando a análise dos dados.\n",
    "\n",
    "    >lista_completa = [[('João', 'J720'), ('Maria', 'M205'), ('José', 'J371'), ('Cláudia', 'C546'), ('Ana', 'A347')],\n",
    "                  [[8.0, 9.0, 10.0], [9.0, 7.0, 6.0], [3.4, 7.0, 7.0], [5.5, 6.6, 8.0], [6.0, 10.0, 9.5]],\n",
    "                  [9.0, 7.3, 5.8, 6.7, 8.5],\n",
    "                  ['Aprovado', 'Aprovado', 'Reprovado', 'Aprovado', 'Aprovado']]\n",
    "\n",
    "    * As chaves do nosso dicionário serão as colunas identificando o tipo de dado.\n",
    "\n",
    "    * Os valores serão as listas com os dados correspondentes àquela chave."
   ]
  },
  {
   "cell_type": "code",
   "execution_count": 9,
   "metadata": {},
   "outputs": [
    {
     "data": {
      "text/plain": [
       "{'Notas': [[8.0, 9.0, 10.0],\n",
       "  [9.0, 7.0, 6.0],\n",
       "  [3.4, 7.0, 7.0],\n",
       "  [5.5, 6.6, 8.0],\n",
       "  [6.0, 10.0, 9.5]],\n",
       " 'MediaFinal': [9.0, 7.3, 5.8, 6.7, 8.5],\n",
       " 'Situação': ['Aprovado', 'Aprovado', 'Reprovado', 'Aprovado', 'Aprovado'],\n",
       " 'Nome': ['João', 'Maria', 'José', 'Cláudia', 'Ana']}"
      ]
     },
     "execution_count": 9,
     "metadata": {},
     "output_type": "execute_result"
    }
   ],
   "source": [
    "lista_completa = [\n",
    "    [('João', 'J720'), ('Maria', 'M205'), ('José', 'J371'), ('Cláudia', 'C546'), ('Ana', 'A347')],\n",
    "    [[8.0, 9.0, 10.0], [9.0, 7.0, 6.0], [3.4, 7.0, 7.0], [5.5, 6.6, 8.0], [6.0, 10.0, 9.5]],\n",
    "    [9.0, 7.3, 5.8, 6.7, 8.5],\n",
    "    ['Aprovado', 'Aprovado', 'Reprovado', 'Aprovado', 'Aprovado']\n",
    "]\n",
    "\n",
    "colunas = ['Notas', 'Media' 'Final', 'Situação']\n",
    "\n",
    "nomes = [lista_completa[0][i][0] for i in range(len(lista_completa[0]))]\n",
    "\n",
    "cadastro = {colunas[i]: lista_completa[i+1] for i in range(len(colunas))}\n",
    "\n",
    "cadastro['Nome'] = nomes\n",
    "\n",
    "cadastro"
   ]
  },
  {
   "cell_type": "markdown",
   "metadata": {},
   "source": [
    "* Recebemos uma demanda da instituição de ensino do nosso projeto que nos repassou uma lista de 20 estudantes e suas respectivas médias finais. Aqui, nós precisamos selecionar estudantes que tenham média final maior ou igual a 9.0. Esses(as) estudantes serão premiados(as) com uma bolsa de estudos para o próximo ano letivo.\n",
    "\n",
    "    Para filtrar os dados, temos que gerar um dicionário cujas chaves são os nomes e os valores são as médias dos(as) estudantes selecionados(as). Estes são os dados recebidos:\n",
    "\n",
    "    >nomes_estudantes = [ \"Enrico Monteiro\", \"Luna Pereira\", \"Anthony Silveira\", \"Letícia Fernandes\", \n",
    "                        \"João Vitor Nascimento\", \"Maysa Caldeira\", \"Diana Carvalho\", \"Mariane da Rosa\",\n",
    "                        \"Camila Fernandes\", \"Levi Alves\", \"Nicolas da Rocha\", \"Amanda Novaes\", \n",
    "                        \"Laís Moraes\", \"Letícia Oliveira\", \"Lucca Novaes\", \"Lara Cunha\", \n",
    "                        \"Beatriz Martins\", \"João Vitor Azevedo\", \"Stephany Rosa\", \"Gustavo Henrique Lima\" ]\n",
    "\n",
    "    >medias_estudantes = [5.4, 4.1, 9.1, 5.3, 6.9, 3.1, 10.0, 5.0, 8.2, 5.5,\n",
    "                        8.1, 7.4, 5.0, 3.7, 8.1, 6.2, 6.1, 5.6, 6.7, 8.2]"
   ]
  },
  {
   "cell_type": "code",
   "execution_count": 3,
   "metadata": {},
   "outputs": [
    {
     "data": {
      "text/plain": [
       "{'Anthony Silveira': 9.1, 'Diana Carvalho': 10.0}"
      ]
     },
     "execution_count": 3,
     "metadata": {},
     "output_type": "execute_result"
    }
   ],
   "source": [
    "nomes_estudantes = [\n",
    "    \"Enrico Monteiro\", \"Luna Pereira\", \"Anthony Silveira\", \"Letícia Fernandes\", \n",
    "    \"João Vitor Nascimento\", \"Maysa Caldeira\", \"Diana Carvalho\", \"Mariane da Rosa\",\n",
    "    \"Camila Fernandes\", \"Levi Alves\", \"Nicolas da Rocha\", \"Amanda Novaes\", \n",
    "    \"Laís Moraes\", \"Letícia Oliveira\", \"Lucca Novaes\", \"Lara Cunha\", \n",
    "    \"Beatriz Martins\", \"João Vitor Azevedo\", \"Stephany Rosa\", \"Gustavo Henrique Lima\"\n",
    "]\n",
    "\n",
    "medias_estudantes = [\n",
    "    5.4, 4.1, 9.1, 5.3, \n",
    "    6.9, 3.1, 10.0, 5.0, \n",
    "    8.2, 5.5,8.1, 7.4, \n",
    "    5.0, 3.7, 8.1, 6.2, \n",
    "    6.1, 5.6, 6.7, 8.2\n",
    "]\n",
    "\n",
    "# estudantes_selecionados = {nomes_estudantes[i]:medias_estudantes[i] for i in range(len(nomes_estudantes)) if medias_estudantes[i]>=9.0}\n",
    "\n",
    "estudantes_selecionados = {nomes: medias for nomes, medias in zip(nomes_estudantes, medias_estudantes) if medias >= 9.0}\n",
    "\n",
    "estudantes_selecionados"
   ]
  },
  {
   "cell_type": "code",
   "execution_count": null,
   "metadata": {},
   "outputs": [],
   "source": []
  }
 ],
 "metadata": {
  "kernelspec": {
   "display_name": "venv",
   "language": "python",
   "name": "python3"
  },
  "language_info": {
   "codemirror_mode": {
    "name": "ipython",
    "version": 3
   },
   "file_extension": ".py",
   "mimetype": "text/x-python",
   "name": "python",
   "nbconvert_exporter": "python",
   "pygments_lexer": "ipython3",
   "version": "3.12.4"
  }
 },
 "nbformat": 4,
 "nbformat_minor": 2
}
